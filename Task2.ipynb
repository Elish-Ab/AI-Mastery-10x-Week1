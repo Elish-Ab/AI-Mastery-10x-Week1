{
 "cells": [
  {
   "cell_type": "code",
   "execution_count": null,
   "metadata": {},
   "outputs": [],
   "source": [
    "import pandas as pd\n",
    "import numpy as np\n",
    "import matplotlib.pyplot as plt\n",
    "import talib\n",
    "import pynance as pn"
   ]
  },
  {
   "cell_type": "code",
   "execution_count": null,
   "metadata": {},
   "outputs": [],
   "source": [
    "# List of file names for the 8 companies\n",
    "file_names = ['AAPL_historical_data.csv', 'AMZN_historical_data.csv', 'GOOG_historical_data.csv', 'META_historical_data.csv',\n",
    "              'MSFT_historical_data.csv', 'NVDA_historical_data.csv', 'TSLA_historical_data.csv']\n",
    "\n",
    "# Iterate over each file\n",
    "for file_name in file_names:\n",
    "    # Step 3: Load and Prepare Data with PyNance\n",
    "    stock_data = pd.read_csv(file_name)\n",
    "    stock_data = stock_data[['Open', 'High', 'Low', 'Close', 'Volume']]\n",
    "    \n",
    "    # Step 4: Calculate Technical Indicators with TA-Lib\n",
    "    close_prices = stock_data['Close'].values\n",
    "    stock_data['SMA_14'] = talib.SMA(close_prices, timeperiod=14)\n",
    "    stock_data['RSI_14'] = talib.RSI(close_prices, timeperiod=14)\n",
    "    macd, macdsignal, macdhist = talib.MACD(close_prices)\n",
    "    stock_data['MACD'] = macd\n",
    "    stock_data['MACD_Signal'] = macdsignal\n",
    "    stock_data['MACD_Histogram'] = macdhist\n",
    "\n",
    "    # Step 5: Visualize the Data\n",
    "    plt.figure(figsize=(14, 7))\n",
    "    plt.plot(stock_data['Close'], label='Close Price', color='b')\n",
    "    plt.plot(stock_data['SMA_14'], label='SMA 14', color='r')\n",
    "    plt.legend()\n",
    "    plt.title(f'{file_name} Stock Price with SMA 14')\n",
    "    plt.xlabel('Date')\n",
    "    plt.ylabel('Price')\n",
    "    plt.show()"
   ]
  }
 ],
 "metadata": {
  "kernelspec": {
   "display_name": "Python 3",
   "language": "python",
   "name": "python3"
  },
  "language_info": {
   "codemirror_mode": {
    "name": "ipython",
    "version": 3
   },
   "file_extension": ".py",
   "mimetype": "text/x-python",
   "name": "python",
   "nbconvert_exporter": "python",
   "pygments_lexer": "ipython3",
   "version": "3.11.0"
  }
 },
 "nbformat": 4,
 "nbformat_minor": 2
}
